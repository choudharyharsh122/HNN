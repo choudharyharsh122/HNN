{
 "cells": [
  {
   "cell_type": "code",
   "execution_count": 1,
   "metadata": {},
   "outputs": [],
   "source": [
    "import torch\n",
    "import numpy as np\n",
    "import os\n",
    "import matplotlib.pyplot as plt\n",
    "\n",
    "from model.hnn import HNN\n",
    "#from dynamics_library import double_well  # Replace with your actual import"
   ]
  },
  {
   "cell_type": "code",
   "execution_count": 2,
   "metadata": {},
   "outputs": [
    {
     "name": "stderr",
     "output_type": "stream",
     "text": [
      "/tmp/ipykernel_22144/2504873418.py:4: FutureWarning: You are using `torch.load` with `weights_only=False` (the current default value), which uses the default pickle module implicitly. It is possible to construct malicious pickle data which will execute arbitrary code during unpickling (See https://github.com/pytorch/pytorch/blob/main/SECURITY.md#untrusted-models for more details). In a future release, the default value for `weights_only` will be flipped to `True`. This limits the functions that could be executed during unpickling. Arbitrary objects will no longer be allowed to be loaded via this mode unless they are explicitly allowlisted by the user via `torch.serialization.add_safe_globals`. We recommend you start setting `weights_only=True` for any use case where you don't have full control of the loaded file. Please open an issue on GitHub for any issues related to this experimental feature.\n",
      "  model = torch.load(model_path, map_location=device)\n"
     ]
    },
    {
     "data": {
      "text/plain": [
       "HNN(\n",
       "  (differentiable_model): MLP(\n",
       "    (layer0): Linear(in_features=2, out_features=200, bias=True)\n",
       "    (layer1): Linear(in_features=200, out_features=200, bias=True)\n",
       "    (layer2): Linear(in_features=200, out_features=1, bias=False)\n",
       "  )\n",
       ")"
      ]
     },
     "execution_count": 2,
     "metadata": {},
     "output_type": "execute_result"
    }
   ],
   "source": [
    "# ==== Load the trained full model ====\n",
    "model_path = \"models/model_0_double_well_0.01_im.pt\"\n",
    "device = torch.device(\"cuda\" if torch.cuda.is_available() else \"cpu\")\n",
    "model = torch.load(model_path, map_location=device)\n",
    "model.eval()\n"
   ]
  },
  {
   "cell_type": "code",
   "execution_count": 14,
   "metadata": {},
   "outputs": [
    {
     "data": {
      "text/plain": [
       "HNN(\n",
       "  (differentiable_model): MLP(\n",
       "    (layer0): Linear(in_features=2, out_features=200, bias=True)\n",
       "    (layer1): Linear(in_features=200, out_features=200, bias=True)\n",
       "    (layer2): Linear(in_features=200, out_features=1, bias=False)\n",
       "  )\n",
       ")"
      ]
     },
     "execution_count": 14,
     "metadata": {},
     "output_type": "execute_result"
    }
   ],
   "source": [
    "# ==== Load the trained full model ====\n",
    "model_path = \"models/model_0_coupled_ho_0.01_im.pt\"\n",
    "device = torch.device(\"cuda\" if torch.cuda.is_available() else \"cpu\")\n",
    "model = torch.load(model_path, map_location=device)\n",
    "model.eval()\n"
   ]
  },
  {
   "cell_type": "code",
   "execution_count": 21,
   "metadata": {},
   "outputs": [],
   "source": [
    "# ==== Define phase space grid ====\n",
    "num_pts = 30\n",
    "q_vals = np.linspace(-3, 3, num_pts)\n",
    "p_vals = np.linspace(-3, 3, num_pts)\n",
    "Q, P = np.meshgrid(q_vals, p_vals)\n",
    "\n",
    "# ==== Containers ====\n",
    "pred_h = np.zeros((num_pts, num_pts))\n",
    "true_h = np.zeros((num_pts, num_pts))"
   ]
  },
  {
   "cell_type": "code",
   "execution_count": 22,
   "metadata": {},
   "outputs": [
    {
     "name": "stdout",
     "output_type": "stream",
     "text": [
      "Computed offset: -38.7906\n"
     ]
    }
   ],
   "source": [
    "# ==== Compute true and predicted Hamiltonians ====\n",
    "for i in range(num_pts):\n",
    "    coords = torch.tensor([Q[i, :], P[i, :]], dtype=torch.float32).T.to(device)\n",
    "\n",
    "    # True Hamiltonian (Double Well)\n",
    "    #true_h[i, :] = (0.5 * P[i, :]**2 + 0.25 * Q[i, :]**4 - 0.5 * Q[i, :]**2)\n",
    "\n",
    "    #Coupled HO\n",
    "    alpha = 0.5\n",
    "    #true_dyn = coupled_ho(torch.tensor([Q[i,:],P[i,:]], dtype=torch.float32).T, args, None).detach().numpy()\n",
    "    true_h[i,:] = Q[i,:]**2 + P[i,:]**2 + alpha*Q[i,:]*P[i,:]\n",
    "\n",
    "    # Predicted Hamiltonian\n",
    "    with torch.no_grad():\n",
    "        pred_h[i, :] = model(coords).cpu().numpy()\n",
    "\n",
    "# ==== Calculate Offset ====\n",
    "offset = (pred_h - true_h).mean()\n",
    "print(f\"Computed offset: {offset:.4f}\")\n"
   ]
  },
  {
   "cell_type": "code",
   "execution_count": 23,
   "metadata": {},
   "outputs": [],
   "source": [
    "# ==== Adjust predictions ====\n",
    "pred_h_corrected = pred_h - offset"
   ]
  },
  {
   "cell_type": "code",
   "execution_count": 24,
   "metadata": {},
   "outputs": [],
   "source": [
    "# Absolute error\n",
    "abs_error = np.abs(pred_h_corrected - true_h)\n",
    "mean_abs_error = abs_error.mean()"
   ]
  },
  {
   "cell_type": "code",
   "execution_count": 25,
   "metadata": {},
   "outputs": [
    {
     "data": {
      "text/plain": [
       "1.6902081242254285"
      ]
     },
     "execution_count": 25,
     "metadata": {},
     "output_type": "execute_result"
    }
   ],
   "source": [
    "mean_abs_error"
   ]
  },
  {
   "cell_type": "code",
   "execution_count": null,
   "metadata": {},
   "outputs": [],
   "source": [
    "# ==== Optional: Save or visualize ====\n",
    "fig = plt.figure(figsize=(12, 5))\n",
    "\n",
    "ax1 = fig.add_subplot(1, 2, 1, projection='3d')\n",
    "ax1.plot_surface(Q, P, true_h, cmap='viridis')\n",
    "ax1.set_title(\"True Hamiltonian\")\n",
    "\n",
    "ax2 = fig.add_subplot(1, 2, 2, projection='3d')\n",
    "ax2.plot_surface(Q, P, pred_h_corrected, cmap='plasma')\n",
    "ax2.set_title(\"Predicted Hamiltonian (offset corrected)\")\n",
    "\n",
    "plt.tight_layout()\n",
    "plt.show()"
   ]
  },
  {
   "cell_type": "code",
   "execution_count": null,
   "metadata": {},
   "outputs": [],
   "source": [
    "#########For Henon-Heiles##########\n",
    "\n",
    "# ==== Load the trained full model ====\n",
    "model_path = \"models/model_0_henon_heiles_0.01_im.pt\"\n",
    "device = torch.device(\"cuda\" if torch.cuda.is_available() else \"cpu\")\n",
    "model = torch.load(model_path, map_location=device)\n",
    "model.eval()"
   ]
  },
  {
   "cell_type": "code",
   "execution_count": null,
   "metadata": {},
   "outputs": [],
   "source": [
    "num_pts = 20\n",
    "# Extract min/max values from the dataset\n",
    "q1_min, q1_max = torch.min(test_noisy[:,:,0]), torch.max(test_noisy[:,:,0])\n",
    "p1_min, p1_max = torch.min(test_noisy[:,:,2]), torch.max(test_noisy[:,:,2])\n",
    "q2_min, q2_max = torch.min(test_noisy[:,:,1]), torch.max(test_noisy[:,:,1])\n",
    "p2_min, p2_max = torch.min(test_noisy[:,:,3]), torch.max(test_noisy[:,:,3])\n",
    "\n",
    "# Create 1D grids\n",
    "q_vals_1 = np.linspace(q1_min, q1_max, num_pts)\n",
    "p_vals_1 = np.linspace(p1_min, p1_max, num_pts)\n",
    "q_vals_2 = np.linspace(q2_min, q2_max, num_pts)\n",
    "p_vals_2 = np.linspace(p2_min, p2_max, num_pts)\n",
    "\n",
    "# Create a full 4D meshgrid\n",
    "Q1, P1, Q2, P2 = np.meshgrid(q_vals_1, p_vals_1, q_vals_2, p_vals_2, indexing='ij')\n",
    "\n",
    "# The resulting arrays are 4D tensors of shape (num_pts, num_pts, num_pts, num_pts)\n",
    "print(Q1.shape, P1.shape, Q2.shape, P2.shape)  # Should print (num_pts, num_pts, num_pts, num_pts)\n"
   ]
  },
  {
   "cell_type": "code",
   "execution_count": null,
   "metadata": {},
   "outputs": [],
   "source": [
    "pred_dyn_q1 = np.zeros((num_pts, num_pts, num_pts, num_pts))\n",
    "pred_dyn_q2 = np.zeros((num_pts, num_pts, num_pts, num_pts))\n",
    "pred_dyn_p1 = np.zeros((num_pts, num_pts, num_pts, num_pts))\n",
    "pred_dyn_p2 = np.zeros((num_pts, num_pts, num_pts, num_pts))\n",
    "true_dyn_q1 = np.zeros((num_pts, num_pts, num_pts, num_pts))\n",
    "true_dyn_q2 = np.zeros((num_pts, num_pts, num_pts, num_pts))\n",
    "true_dyn_p1 = np.zeros((num_pts, num_pts, num_pts, num_pts))\n",
    "true_dyn_p2 = np.zeros((num_pts, num_pts, num_pts, num_pts))\n",
    "true_h = np.zeros((num_pts, num_pts, num_pts, num_pts))\n",
    "pred_h = np.zeros((num_pts, num_pts, num_pts, num_pts))\n",
    "\n",
    "for i in range(num_pts):\n",
    "    for j in range(num_pts):\n",
    "        for k in range(num_pts):\n",
    "            for l in range(num_pts):\n",
    "                 \n",
    "                q1 = q_vals_1[i]\n",
    "                q2 = q_vals_2[j]\n",
    "                p1 = p_vals_1[k]\n",
    "                p2 = p_vals_2[l]\n",
    "\n",
    "                state = torch.tensor([[q1, q2, p1, p2]], dtype=torch.float32)\n",
    "                # Predicted dynamics using the learned model\n",
    "                #pred_dyn = forward_ode(state, (model,), (0,)).detach().numpy()\n",
    "\n",
    "                #pred_dyn_q1[i, j, k, l] = pred_dyn[:, 0]\n",
    "                #pred_dyn_q2[i, j, k, l] = pred_dyn[:, 1]\n",
    "                #pred_dyn_p1[i, j, k, l] = pred_dyn[:, 2]\n",
    "                #pred_dyn_p2[i, j, k, l] = pred_dyn[:, 3]\n",
    "\n",
    "                # True dynamics\n",
    "                #true_dyn = henon_heiles(state, None, None).detach().numpy()\n",
    "                #true_dyn_q1[i, j, k, l] = true_dyn[:, 0]\n",
    "                #true_dyn_q2[i, j, k, l] = true_dyn[:, 1]\n",
    "                #true_dyn_p1[i, j, k, l] = true_dyn[:, 2]\n",
    "                #true_dyn_p2[i, j, k, l] = true_dyn[:, 3]\n",
    "\n",
    "                # Hamiltonian values\n",
    "                true_h[i, j, k, l] = (0.5*(p1**2 + p2**2) + 0.5*(q1**2 + q2**2) + (q1**2)*(q2) - ((q2**3)/3))\n",
    "                pred_h[i, j, k, l] = model(state).squeeze().detach().numpy() - offset\n"
   ]
  }
 ],
 "metadata": {
  "kernelspec": {
   "display_name": "ghost",
   "language": "python",
   "name": "python3"
  },
  "language_info": {
   "codemirror_mode": {
    "name": "ipython",
    "version": 3
   },
   "file_extension": ".py",
   "mimetype": "text/x-python",
   "name": "python",
   "nbconvert_exporter": "python",
   "pygments_lexer": "ipython3",
   "version": "3.10.13"
  }
 },
 "nbformat": 4,
 "nbformat_minor": 2
}
